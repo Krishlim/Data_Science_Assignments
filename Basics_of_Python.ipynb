{
 "cells": [
  {
   "cell_type": "markdown",
   "id": "5697e98a-25d1-4c0d-aa15-a485d86ef770",
   "metadata": {},
   "source": [
    "Exercise 1 : Prime Numbers"
   ]
  },
  {
   "cell_type": "code",
   "execution_count": 71,
   "id": "42126e8a-ee01-4ede-80a2-68ef5bf8b55d",
   "metadata": {},
   "outputs": [
    {
     "name": "stdin",
     "output_type": "stream",
     "text": [
      "Add a no. to check Prime Number 50\n"
     ]
    }
   ],
   "source": [
    "x = int(input('Add a no. to check Prime Number'))  "
   ]
  },
  {
   "cell_type": "code",
   "execution_count": 72,
   "id": "f5337f07-ee23-4dbb-a621-aaad9c2e6fc9",
   "metadata": {},
   "outputs": [
    {
     "name": "stdout",
     "output_type": "stream",
     "text": [
      "It's not a Prime Number\n"
     ]
    }
   ],
   "source": [
    "for i in range(2,(x//2)+1):\n",
    "    if x%i == 0:\n",
    "        print (\"It's not a Prime Number\")\n",
    "        break\n",
    "else :\n",
    "    print (\"It's a Prime Number\")\n",
    "         "
   ]
  },
  {
   "cell_type": "markdown",
   "id": "3a77d3d5-2de8-4702-965a-431fcb0e6b1c",
   "metadata": {},
   "source": [
    "Exercise 2: Product of Random Numbers"
   ]
  },
  {
   "cell_type": "code",
   "execution_count": 1,
   "id": "19290f38-5f41-4791-8d33-31f8312217f3",
   "metadata": {},
   "outputs": [],
   "source": [
    "import random"
   ]
  },
  {
   "cell_type": "code",
   "execution_count": 10,
   "id": "0a70ad8c-0bb2-4859-a213-32c581495e27",
   "metadata": {},
   "outputs": [
    {
     "name": "stdout",
     "output_type": "stream",
     "text": [
      "30\n",
      "32\n"
     ]
    },
    {
     "name": "stdin",
     "output_type": "stream",
     "text": [
      "Enter the Product of above two Numbers 960\n"
     ]
    },
    {
     "name": "stdout",
     "output_type": "stream",
     "text": [
      "Your Answer is Right.\n"
     ]
    }
   ],
   "source": [
    "num1 = random.randint(1,100)\n",
    "num2 = random.randint(1,100)\n",
    "x = num1 * num2\n",
    "print(num1)\n",
    "print(num2)\n",
    "result = int(input('Enter the Product of above two Numbers'))\n",
    "if result == x:\n",
    "    print ('Your Answer is Right.')\n",
    "else :\n",
    "    print ('Your Answer is wrong.')"
   ]
  },
  {
   "cell_type": "markdown",
   "id": "12daa0f2-c481-4432-843e-017927db3109",
   "metadata": {},
   "source": [
    "Exercise 3: Squares of Even/Odd Numbers"
   ]
  },
  {
   "cell_type": "code",
   "execution_count": 11,
   "id": "f18ecda9-0d0b-4e4c-9706-13e5d824e6c6",
   "metadata": {},
   "outputs": [
    {
     "name": "stdout",
     "output_type": "stream",
     "text": [
      "[10000, 10404, 10816, 11236, 11664, 12100, 12544, 12996, 13456, 13924, 14400, 14884, 15376, 15876, 16384, 16900, 17424, 17956, 18496, 19044, 19600, 20164, 20736, 21316, 21904, 22500, 23104, 23716, 24336, 24964, 25600, 26244, 26896, 27556, 28224, 28900, 29584, 30276, 30976, 31684, 32400, 33124, 33856, 34596, 35344, 36100, 36864, 37636, 38416, 39204]\n"
     ]
    }
   ],
   "source": [
    "squares = []                     #squares of even numbers\n",
    "for i in range(100,200):\n",
    "    if i%2 == 0:\n",
    "        squares.append(i**2)\n",
    "\n",
    "print(squares)"
   ]
  },
  {
   "cell_type": "code",
   "execution_count": 14,
   "id": "4358ebf5-5eb7-4926-9652-cbfc7e1d85aa",
   "metadata": {},
   "outputs": [
    {
     "name": "stdout",
     "output_type": "stream",
     "text": [
      "[10201, 10609, 11025, 11449, 11881, 12321, 12769, 13225, 13689, 14161, 14641, 15129, 15625, 16129, 16641, 17161, 17689, 18225, 18769, 19321, 19881, 20449, 21025, 21609, 22201, 22801, 23409, 24025, 24649, 25281, 25921, 26569, 27225, 27889, 28561, 29241, 29929, 30625, 31329, 32041, 32761, 33489, 34225, 34969, 35721, 36481, 37249, 38025, 38809, 39601]\n"
     ]
    }
   ],
   "source": [
    "squares = []                     #squares of odd numbers\n",
    "for i in range(100,200):\n",
    "    if i%2 != 0:\n",
    "        squares.append(i**2)\n",
    "\n",
    "print(squares)"
   ]
  },
  {
   "cell_type": "markdown",
   "id": "c5cb79e3-f6ec-41cf-9adf-bd2b790fc9aa",
   "metadata": {},
   "source": [
    "Exercise 4: Word counter"
   ]
  },
  {
   "cell_type": "code",
   "execution_count": 29,
   "id": "e2b769f3-9636-4bfe-9ed0-f8eec945d06b",
   "metadata": {},
   "outputs": [
    {
     "name": "stdin",
     "output_type": "stream",
     "text": [
      "Write your text here : This is a sample text. This text will be used to demonstrate the word counter.\n"
     ]
    },
    {
     "name": "stdout",
     "output_type": "stream",
     "text": [
      "This : 2\n",
      "is : 1\n",
      "a : 1\n",
      "sample : 1\n",
      "text. : 1\n",
      "This : 2\n",
      "text : 1\n",
      "will : 1\n",
      "be : 1\n",
      "used : 1\n",
      "to : 1\n",
      "demonstrate : 1\n",
      "the : 1\n",
      "word : 1\n",
      "counter. : 1\n"
     ]
    }
   ],
   "source": [
    "import pandas as pd\n",
    "input_text = input('Write your text here :')\n",
    "words = input_text.split(sep = ' ')\n",
    "\n",
    "for i in words:\n",
    "    words.count(i)\n",
    "    print(f'{i} : {words.count(i)}')\n",
    "    "
   ]
  },
  {
   "cell_type": "markdown",
   "id": "91a157e7-cf17-40bb-a517-2041c6283aee",
   "metadata": {},
   "source": [
    "Exercise 5: Check for Palindrome"
   ]
  },
  {
   "cell_type": "code",
   "execution_count": 45,
   "id": "598e9976-4f07-4580-9b29-c5099b75d578",
   "metadata": {},
   "outputs": [],
   "source": [
    "def is_palindrome(Text):\n",
    "    Text = input('Write your text here :')\n",
    "    string = \"\".join(reversed(Text))\n",
    "    if Text == string:\n",
    "        print ('True')\n",
    "    else :\n",
    "        print ('False')\n",
    "   \n",
    "   \n"
   ]
  },
  {
   "cell_type": "code",
   "execution_count": 46,
   "id": "0380fee0-4f80-495d-9a3c-98ae8db8a1a0",
   "metadata": {},
   "outputs": [
    {
     "name": "stdin",
     "output_type": "stream",
     "text": [
      "Write your text here : Krishna\n"
     ]
    },
    {
     "name": "stdout",
     "output_type": "stream",
     "text": [
      "False\n"
     ]
    }
   ],
   "source": [
    "is_palindrome(Text)"
   ]
  },
  {
   "cell_type": "code",
   "execution_count": 47,
   "id": "15228970-4d07-4010-b037-bb71b097208b",
   "metadata": {},
   "outputs": [
    {
     "name": "stdin",
     "output_type": "stream",
     "text": [
      "Write your text here : racecar\n"
     ]
    },
    {
     "name": "stdout",
     "output_type": "stream",
     "text": [
      "True\n"
     ]
    }
   ],
   "source": [
    "is_palindrome(Text)"
   ]
  },
  {
   "cell_type": "code",
   "execution_count": null,
   "id": "7fa808ff-7dac-450c-9cd2-ddf899bc8075",
   "metadata": {},
   "outputs": [],
   "source": []
  },
  {
   "cell_type": "code",
   "execution_count": null,
   "id": "7acd9f1b-609e-4249-835f-a56eba00bfbf",
   "metadata": {},
   "outputs": [],
   "source": []
  },
  {
   "cell_type": "code",
   "execution_count": null,
   "id": "600a6fa4-9ef6-414c-8e7c-ed64fc77f3f9",
   "metadata": {},
   "outputs": [],
   "source": []
  },
  {
   "cell_type": "code",
   "execution_count": null,
   "id": "0d2154a9-150e-48b6-8a11-9b7d61911089",
   "metadata": {},
   "outputs": [],
   "source": []
  },
  {
   "cell_type": "code",
   "execution_count": null,
   "id": "010eafa2-be0c-43fe-b575-6c2810fd3dbb",
   "metadata": {},
   "outputs": [],
   "source": []
  },
  {
   "cell_type": "code",
   "execution_count": null,
   "id": "67c0f54d-52dd-49bd-bb41-cf9ab4ea96f8",
   "metadata": {},
   "outputs": [],
   "source": []
  },
  {
   "cell_type": "code",
   "execution_count": null,
   "id": "fc735528-df11-475b-8cc5-4975363a390e",
   "metadata": {},
   "outputs": [],
   "source": []
  },
  {
   "cell_type": "code",
   "execution_count": null,
   "id": "e0208d8c-0605-41af-bae8-28eeec38a477",
   "metadata": {},
   "outputs": [],
   "source": []
  },
  {
   "cell_type": "code",
   "execution_count": null,
   "id": "71ecaeac-50ce-41d6-b507-a073769bc3f7",
   "metadata": {},
   "outputs": [],
   "source": []
  },
  {
   "cell_type": "code",
   "execution_count": null,
   "id": "dada04b9-75be-4296-b917-aa806adc136f",
   "metadata": {},
   "outputs": [],
   "source": []
  },
  {
   "cell_type": "code",
   "execution_count": null,
   "id": "129dc0db-5ae1-49c1-a5c5-20231ffd71e0",
   "metadata": {},
   "outputs": [],
   "source": []
  },
  {
   "cell_type": "code",
   "execution_count": null,
   "id": "e674b098-4bcb-44f0-a49c-914b5fd504c6",
   "metadata": {},
   "outputs": [],
   "source": []
  },
  {
   "cell_type": "code",
   "execution_count": null,
   "id": "244b8f2b-3935-4399-9500-5c1c088c6c40",
   "metadata": {},
   "outputs": [],
   "source": []
  },
  {
   "cell_type": "code",
   "execution_count": null,
   "id": "a3d0127e-47da-4e77-be5a-49fb59e5c888",
   "metadata": {},
   "outputs": [],
   "source": []
  },
  {
   "cell_type": "code",
   "execution_count": null,
   "id": "5ef3003c-75d1-488b-b831-8d9a1b304741",
   "metadata": {},
   "outputs": [],
   "source": []
  },
  {
   "cell_type": "code",
   "execution_count": null,
   "id": "4f900549-d2ca-4970-a632-9fe86c59ae08",
   "metadata": {},
   "outputs": [],
   "source": []
  },
  {
   "cell_type": "code",
   "execution_count": null,
   "id": "41cd3b42-8c08-4686-bd6f-f5f26d592846",
   "metadata": {},
   "outputs": [],
   "source": []
  },
  {
   "cell_type": "code",
   "execution_count": null,
   "id": "a1d3eaf0-1b6e-49e8-8648-07c1a68392e6",
   "metadata": {},
   "outputs": [],
   "source": []
  },
  {
   "cell_type": "code",
   "execution_count": null,
   "id": "c52cfb49-6cb9-44f7-8826-3fe0dbf44ca6",
   "metadata": {},
   "outputs": [],
   "source": []
  },
  {
   "cell_type": "code",
   "execution_count": null,
   "id": "3b756d9c-1817-4ac0-9457-119f2e04759a",
   "metadata": {},
   "outputs": [],
   "source": []
  },
  {
   "cell_type": "code",
   "execution_count": null,
   "id": "a5875327-a300-4993-956e-59f29d6832d7",
   "metadata": {},
   "outputs": [],
   "source": []
  },
  {
   "cell_type": "code",
   "execution_count": null,
   "id": "52eb6b1f-a434-47c0-9c6b-681d70222728",
   "metadata": {},
   "outputs": [],
   "source": []
  },
  {
   "cell_type": "code",
   "execution_count": null,
   "id": "5ba780d9-a3a5-4914-8667-2ac5ea523d1d",
   "metadata": {},
   "outputs": [],
   "source": []
  },
  {
   "cell_type": "code",
   "execution_count": null,
   "id": "b4799b02-3bbb-4c94-bb15-cf0622d0c8d7",
   "metadata": {},
   "outputs": [],
   "source": []
  },
  {
   "cell_type": "code",
   "execution_count": null,
   "id": "eb548dc5-ed8c-490f-84bc-fb37691e18fb",
   "metadata": {},
   "outputs": [],
   "source": []
  },
  {
   "cell_type": "code",
   "execution_count": null,
   "id": "3bfb7397-0f57-4b8e-9060-6eb7587e5356",
   "metadata": {},
   "outputs": [],
   "source": []
  },
  {
   "cell_type": "code",
   "execution_count": null,
   "id": "188882d1-1f2b-40d3-8089-83fca5b20254",
   "metadata": {},
   "outputs": [],
   "source": []
  },
  {
   "cell_type": "code",
   "execution_count": null,
   "id": "93376d39-01a1-4824-88b6-26b8e027610c",
   "metadata": {},
   "outputs": [],
   "source": []
  },
  {
   "cell_type": "code",
   "execution_count": null,
   "id": "bd24e499-4b11-4427-9942-d314c038a3f3",
   "metadata": {},
   "outputs": [],
   "source": []
  }
 ],
 "metadata": {
  "kernelspec": {
   "display_name": "Python 3 (ipykernel)",
   "language": "python",
   "name": "python3"
  },
  "language_info": {
   "codemirror_mode": {
    "name": "ipython",
    "version": 3
   },
   "file_extension": ".py",
   "mimetype": "text/x-python",
   "name": "python",
   "nbconvert_exporter": "python",
   "pygments_lexer": "ipython3",
   "version": "3.11.7"
  }
 },
 "nbformat": 4,
 "nbformat_minor": 5
}
