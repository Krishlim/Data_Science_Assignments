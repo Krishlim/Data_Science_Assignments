{
 "cells": [
  {
   "cell_type": "code",
   "execution_count": 1,
   "id": "ee6f7808",
   "metadata": {},
   "outputs": [],
   "source": [
    "import pandas as pd \n",
    "import matplotlib.pyplot as plt\n",
    "import seaborn as sns"
   ]
  },
  {
   "cell_type": "markdown",
   "id": "e707468b",
   "metadata": {},
   "source": [
    "# Part 1: Data Preparation and Exploration"
   ]
  },
  {
   "cell_type": "code",
   "execution_count": 2,
   "id": "fdbd43c2",
   "metadata": {},
   "outputs": [],
   "source": [
    "df = pd.read_csv(\"C:\\ExcelR\\DS\\Assignment\\Timeseries\\Timeseries\\exchange_rate.csv\",parse_dates=['date'], dayfirst=True)"
   ]
  },
  {
   "cell_type": "code",
   "execution_count": 3,
   "id": "6f4d560a",
   "metadata": {
    "scrolled": false
   },
   "outputs": [
    {
     "data": {
      "text/html": [
       "<div>\n",
       "<style scoped>\n",
       "    .dataframe tbody tr th:only-of-type {\n",
       "        vertical-align: middle;\n",
       "    }\n",
       "\n",
       "    .dataframe tbody tr th {\n",
       "        vertical-align: top;\n",
       "    }\n",
       "\n",
       "    .dataframe thead th {\n",
       "        text-align: right;\n",
       "    }\n",
       "</style>\n",
       "<table border=\"1\" class=\"dataframe\">\n",
       "  <thead>\n",
       "    <tr style=\"text-align: right;\">\n",
       "      <th></th>\n",
       "      <th>date</th>\n",
       "      <th>Ex_rate</th>\n",
       "    </tr>\n",
       "  </thead>\n",
       "  <tbody>\n",
       "    <tr>\n",
       "      <th>0</th>\n",
       "      <td>1990-01-01</td>\n",
       "      <td>0.7855</td>\n",
       "    </tr>\n",
       "    <tr>\n",
       "      <th>1</th>\n",
       "      <td>1990-01-02</td>\n",
       "      <td>0.7818</td>\n",
       "    </tr>\n",
       "    <tr>\n",
       "      <th>2</th>\n",
       "      <td>1990-01-03</td>\n",
       "      <td>0.7867</td>\n",
       "    </tr>\n",
       "    <tr>\n",
       "      <th>3</th>\n",
       "      <td>1990-01-04</td>\n",
       "      <td>0.7860</td>\n",
       "    </tr>\n",
       "    <tr>\n",
       "      <th>4</th>\n",
       "      <td>1990-01-05</td>\n",
       "      <td>0.7849</td>\n",
       "    </tr>\n",
       "    <tr>\n",
       "      <th>5</th>\n",
       "      <td>1990-01-06</td>\n",
       "      <td>0.7866</td>\n",
       "    </tr>\n",
       "    <tr>\n",
       "      <th>6</th>\n",
       "      <td>1990-01-07</td>\n",
       "      <td>0.7886</td>\n",
       "    </tr>\n",
       "    <tr>\n",
       "      <th>7</th>\n",
       "      <td>1990-01-08</td>\n",
       "      <td>0.7910</td>\n",
       "    </tr>\n",
       "    <tr>\n",
       "      <th>8</th>\n",
       "      <td>1990-01-09</td>\n",
       "      <td>0.7939</td>\n",
       "    </tr>\n",
       "    <tr>\n",
       "      <th>9</th>\n",
       "      <td>1990-01-10</td>\n",
       "      <td>0.7894</td>\n",
       "    </tr>\n",
       "  </tbody>\n",
       "</table>\n",
       "</div>"
      ],
      "text/plain": [
       "        date  Ex_rate\n",
       "0 1990-01-01   0.7855\n",
       "1 1990-01-02   0.7818\n",
       "2 1990-01-03   0.7867\n",
       "3 1990-01-04   0.7860\n",
       "4 1990-01-05   0.7849\n",
       "5 1990-01-06   0.7866\n",
       "6 1990-01-07   0.7886\n",
       "7 1990-01-08   0.7910\n",
       "8 1990-01-09   0.7939\n",
       "9 1990-01-10   0.7894"
      ]
     },
     "execution_count": 3,
     "metadata": {},
     "output_type": "execute_result"
    }
   ],
   "source": [
    "df.head(10)"
   ]
  },
  {
   "cell_type": "code",
   "execution_count": 4,
   "id": "37023b07",
   "metadata": {},
   "outputs": [],
   "source": [
    "df.set_index('date', inplace=True)"
   ]
  },
  {
   "cell_type": "code",
   "execution_count": 5,
   "id": "a64e0d9a",
   "metadata": {},
   "outputs": [
    {
     "data": {
      "text/html": [
       "<div>\n",
       "<style scoped>\n",
       "    .dataframe tbody tr th:only-of-type {\n",
       "        vertical-align: middle;\n",
       "    }\n",
       "\n",
       "    .dataframe tbody tr th {\n",
       "        vertical-align: top;\n",
       "    }\n",
       "\n",
       "    .dataframe thead th {\n",
       "        text-align: right;\n",
       "    }\n",
       "</style>\n",
       "<table border=\"1\" class=\"dataframe\">\n",
       "  <thead>\n",
       "    <tr style=\"text-align: right;\">\n",
       "      <th></th>\n",
       "      <th>Ex_rate</th>\n",
       "    </tr>\n",
       "    <tr>\n",
       "      <th>date</th>\n",
       "      <th></th>\n",
       "    </tr>\n",
       "  </thead>\n",
       "  <tbody>\n",
       "    <tr>\n",
       "      <th>1990-01-01</th>\n",
       "      <td>0.785500</td>\n",
       "    </tr>\n",
       "    <tr>\n",
       "      <th>1990-01-02</th>\n",
       "      <td>0.781800</td>\n",
       "    </tr>\n",
       "    <tr>\n",
       "      <th>1990-01-03</th>\n",
       "      <td>0.786700</td>\n",
       "    </tr>\n",
       "    <tr>\n",
       "      <th>1990-01-04</th>\n",
       "      <td>0.786000</td>\n",
       "    </tr>\n",
       "    <tr>\n",
       "      <th>1990-01-05</th>\n",
       "      <td>0.784900</td>\n",
       "    </tr>\n",
       "    <tr>\n",
       "      <th>...</th>\n",
       "      <td>...</td>\n",
       "    </tr>\n",
       "    <tr>\n",
       "      <th>2010-10-06</th>\n",
       "      <td>0.718494</td>\n",
       "    </tr>\n",
       "    <tr>\n",
       "      <th>2010-10-07</th>\n",
       "      <td>0.721839</td>\n",
       "    </tr>\n",
       "    <tr>\n",
       "      <th>2010-10-08</th>\n",
       "      <td>0.723197</td>\n",
       "    </tr>\n",
       "    <tr>\n",
       "      <th>2010-10-09</th>\n",
       "      <td>0.720825</td>\n",
       "    </tr>\n",
       "    <tr>\n",
       "      <th>2010-10-10</th>\n",
       "      <td>0.720825</td>\n",
       "    </tr>\n",
       "  </tbody>\n",
       "</table>\n",
       "<p>7588 rows × 1 columns</p>\n",
       "</div>"
      ],
      "text/plain": [
       "             Ex_rate\n",
       "date                \n",
       "1990-01-01  0.785500\n",
       "1990-01-02  0.781800\n",
       "1990-01-03  0.786700\n",
       "1990-01-04  0.786000\n",
       "1990-01-05  0.784900\n",
       "...              ...\n",
       "2010-10-06  0.718494\n",
       "2010-10-07  0.721839\n",
       "2010-10-08  0.723197\n",
       "2010-10-09  0.720825\n",
       "2010-10-10  0.720825\n",
       "\n",
       "[7588 rows x 1 columns]"
      ]
     },
     "execution_count": 5,
     "metadata": {},
     "output_type": "execute_result"
    }
   ],
   "source": [
    "df"
   ]
  },
  {
   "cell_type": "code",
   "execution_count": 6,
   "id": "caa96906",
   "metadata": {},
   "outputs": [
    {
     "data": {
      "text/plain": [
       "Ex_rate    0\n",
       "dtype: int64"
      ]
     },
     "execution_count": 6,
     "metadata": {},
     "output_type": "execute_result"
    }
   ],
   "source": [
    "df.isna().sum()"
   ]
  },
  {
   "cell_type": "code",
   "execution_count": 7,
   "id": "ed88ebfa",
   "metadata": {},
   "outputs": [
    {
     "data": {
      "text/plain": [
       "2258"
      ]
     },
     "execution_count": 7,
     "metadata": {},
     "output_type": "execute_result"
    }
   ],
   "source": [
    "df.duplicated().sum()"
   ]
  },
  {
   "cell_type": "code",
   "execution_count": 8,
   "id": "7d4f44eb",
   "metadata": {},
   "outputs": [
    {
     "data": {
      "image/png": "[encoded data removed]",
      "text/plain": [
       "<Figure size 432x288 with 1 Axes>"
      ]
     },
     "metadata": {
      "needs_background": "light"
     },
     "output_type": "display_data"
    }
   ],
   "source": [
    "plt.plot(df['Ex_rate'], label='Exchange Rate')\n",
    "plt.title('Exchange Rate Time Series')\n",
    "plt.xlabel('Dates')\n",
    "plt.ylabel('Exchange Rate')\n",
    "plt.legend()\n",
    "plt.show()"
   ]
  },
  {
   "cell_type": "markdown",
   "id": "6686b0c1",
   "metadata": {},
   "source": [
    "# Part 2: Model Building - ARIMA"
   ]
  },
  {
   "cell_type": "markdown",
   "id": "93d8a0ad",
   "metadata": {},
   "source": [
    "### Parameter Selection:"
   ]
  },
  {
   "cell_type": "code",
   "execution_count": 9,
   "id": "0e572a48",
   "metadata": {},
   "outputs": [],
   "source": [
    "from statsmodels.graphics.tsaplots import plot_acf , plot_pacf"
   ]
  },
  {
   "cell_type": "code",
   "execution_count": 10,
   "id": "a91b965e",
   "metadata": {
    "scrolled": true
   },
   "outputs": [
    {
     "data": {
      "image/png": "[encoded data removed]",
      "text/plain": [
       "<Figure size 432x288 with 1 Axes>"
      ]
     },
     "metadata": {
      "needs_background": "light"
     },
     "output_type": "display_data"
    },
    {
     "data": {
      "image/png": "[encoded data removed]",
      "text/plain": [
       "<Figure size 432x288 with 1 Axes>"
      ]
     },
     "metadata": {
      "needs_background": "light"
     },
     "output_type": "display_data"
    }
   ],
   "source": [
    "plot_acf(df['Ex_rate'])\n",
    "plot_pacf(df['Ex_rate'])\n",
    "plt.show()"
   ]
  },
  {
   "cell_type": "markdown",
   "id": "4fe00731",
   "metadata": {},
   "source": [
    "### Model Fitting:"
   ]
  },
  {
   "cell_type": "code",
   "execution_count": 11,
   "id": "df44e837",
   "metadata": {},
   "outputs": [],
   "source": [
    "from statsmodels.tsa.arima.model import ARIMA"
   ]
  },
  {
   "cell_type": "code",
   "execution_count": 12,
   "id": "a4ea0e7b",
   "metadata": {},
   "outputs": [
    {
     "name": "stderr",
     "output_type": "stream",
     "text": [
      "C:\\Users\\HP\\anaconda3\\lib\\site-packages\\statsmodels\\tsa\\base\\tsa_model.py:473: ValueWarning: No frequency information was provided, so inferred frequency D will be used.\n",
      "  self._init_dates(dates, freq)\n",
      "C:\\Users\\HP\\anaconda3\\lib\\site-packages\\statsmodels\\tsa\\base\\tsa_model.py:473: ValueWarning: No frequency information was provided, so inferred frequency D will be used.\n",
      "  self._init_dates(dates, freq)\n",
      "C:\\Users\\HP\\anaconda3\\lib\\site-packages\\statsmodels\\tsa\\base\\tsa_model.py:473: ValueWarning: No frequency information was provided, so inferred frequency D will be used.\n",
      "  self._init_dates(dates, freq)\n"
     ]
    }
   ],
   "source": [
    "model = ARIMA(df['Ex_rate'], order=(1,1,1))\n",
    "arima_result = model.fit()"
   ]
  },
  {
   "cell_type": "code",
   "execution_count": 13,
   "id": "28a66914",
   "metadata": {
    "scrolled": true
   },
   "outputs": [
    {
     "name": "stdout",
     "output_type": "stream",
     "text": [
      "                               SARIMAX Results                                \n",
      "==============================================================================\n",
      "Dep. Variable:                Ex_rate   No. Observations:                 7588\n",
      "Model:                 ARIMA(1, 1, 1)   Log Likelihood               28054.161\n",
      "Date:                Sun, 15 Sep 2024   AIC                         -56102.322\n",
      "Time:                        13:03:54   BIC                         -56081.519\n",
      "Sample:                    01-01-1990   HQIC                        -56095.182\n",
      "                         - 10-10-2010                                         \n",
      "Covariance Type:                  opg                                         \n",
      "==============================================================================\n",
      "                 coef    std err          z      P>|z|      [0.025      0.975]\n",
      "------------------------------------------------------------------------------\n",
      "ar.L1         -0.1268      0.045     -2.797      0.005      -0.216      -0.038\n",
      "ma.L1         -0.0046      0.045     -0.101      0.920      -0.094       0.085\n",
      "sigma2      3.596e-05   9.94e-08    361.604      0.000    3.58e-05    3.62e-05\n",
      "===================================================================================\n",
      "Ljung-Box (L1) (Q):                   0.00   Jarque-Bera (JB):           2865078.33\n",
      "Prob(Q):                              1.00   Prob(JB):                         0.00\n",
      "Heteroskedasticity (H):               2.97   Skew:                             0.24\n",
      "Prob(H) (two-sided):                  0.00   Kurtosis:                        98.20\n",
      "===================================================================================\n",
      "\n",
      "Warnings:\n",
      "[1] Covariance matrix calculated using the outer product of gradients (complex-step).\n"
     ]
    }
   ],
   "source": [
    "print(arima_result.summary())"
   ]
  },
  {
   "cell_type": "markdown",
   "id": "88d86136",
   "metadata": {},
   "source": [
    "### Diagnostics:"
   ]
  },
  {
   "cell_type": "code",
   "execution_count": 14,
   "id": "e5452eee",
   "metadata": {},
   "outputs": [
    {
     "data": {
      "image/png": "[encoded data removed]",
      "text/plain": [
       "<Figure size 720x432 with 1 Axes>"
      ]
     },
     "metadata": {
      "needs_background": "light"
     },
     "output_type": "display_data"
    }
   ],
   "source": [
    "residuals = arima_result.resid\n",
    "plt.figure(figsize=(10,6))\n",
    "plt.plot(residuals)\n",
    "plt.title('ARIMA Model Residuals')\n",
    "plt.show()"
   ]
  },
  {
   "cell_type": "markdown",
   "id": "2baf56f3",
   "metadata": {},
   "source": [
    "### Forecasting:"
   ]
  },
  {
   "cell_type": "code",
   "execution_count": 15,
   "id": "8afce1a6",
   "metadata": {},
   "outputs": [
    {
     "data": {
      "image/png": "[encoded data removed]",
      "text/plain": [
       "<Figure size 432x288 with 1 Axes>"
      ]
     },
     "metadata": {
      "needs_background": "light"
     },
     "output_type": "display_data"
    }
   ],
   "source": [
    "forecast = arima_result.forecast(steps=30)\n",
    "plt.plot(df['Ex_rate'], label='Actual')\n",
    "plt.plot(forecast, label='Forecast', color='red')\n",
    "plt.title('ARIMA Forecast vs Actual')\n",
    "plt.legend()\n",
    "plt.show()\n"
   ]
  },
  {
   "cell_type": "markdown",
   "id": "13c3b38e",
   "metadata": {},
   "source": [
    "# Part 3: Model Building - Exponential Smoothing"
   ]
  },
  {
   "cell_type": "markdown",
   "id": "bac661f9",
   "metadata": {},
   "source": [
    "### Model Selection:"
   ]
  },
  {
   "cell_type": "code",
   "execution_count": 16,
   "id": "c5fb8384",
   "metadata": {},
   "outputs": [],
   "source": [
    "from statsmodels.tsa.holtwinters import ExponentialSmoothing"
   ]
  },
  {
   "cell_type": "code",
   "execution_count": 17,
   "id": "02d6a91b",
   "metadata": {},
   "outputs": [
    {
     "name": "stderr",
     "output_type": "stream",
     "text": [
      "C:\\Users\\HP\\anaconda3\\lib\\site-packages\\statsmodels\\tsa\\base\\tsa_model.py:473: ValueWarning: No frequency information was provided, so inferred frequency D will be used.\n",
      "  self._init_dates(dates, freq)\n"
     ]
    }
   ],
   "source": [
    "# Holt’s Linear Trend Model as an example\n",
    "model_es = ExponentialSmoothing(df['Ex_rate'], trend='add')\n",
    "es_result = model_es.fit()\n"
   ]
  },
  {
   "cell_type": "markdown",
   "id": "546e1b7e",
   "metadata": {},
   "source": [
    "### Parameter Optimization:"
   ]
  },
  {
   "cell_type": "code",
   "execution_count": 18,
   "id": "7e63bb2c",
   "metadata": {},
   "outputs": [
    {
     "name": "stdout",
     "output_type": "stream",
     "text": [
      "AIC:  -77641.00932648809\n"
     ]
    }
   ],
   "source": [
    "# AIC score for model comparison\n",
    "print('AIC: ', es_result.aic)\n"
   ]
  },
  {
   "cell_type": "markdown",
   "id": "919d87de",
   "metadata": {},
   "source": [
    "### Model Fitting and Forecasting"
   ]
  },
  {
   "cell_type": "code",
   "execution_count": 19,
   "id": "4b24249f",
   "metadata": {},
   "outputs": [
    {
     "data": {
      "image/png": "[encoded data removed]",
      "text/plain": [
       "<Figure size 432x288 with 1 Axes>"
      ]
     },
     "metadata": {
      "needs_background": "light"
     },
     "output_type": "display_data"
    }
   ],
   "source": [
    "forecast_es = es_result.forecast(steps=30)\n",
    "plt.plot(df['Ex_rate'], label='Actual')\n",
    "plt.plot(forecast_es, label='Exponential Smoothing Forecast', color='green')\n",
    "plt.title('Exponential Smoothing Forecast vs Actual')\n",
    "plt.legend()\n",
    "plt.show()\n"
   ]
  },
  {
   "cell_type": "markdown",
   "id": "08426a11",
   "metadata": {},
   "source": [
    "# Part 4: Evaluation and Comparison"
   ]
  },
  {
   "cell_type": "code",
   "execution_count": 20,
   "id": "39c67e48",
   "metadata": {},
   "outputs": [],
   "source": [
    "from sklearn.metrics import mean_absolute_error, mean_squared_error"
   ]
  },
  {
   "cell_type": "code",
   "execution_count": 21,
   "id": "a4c1c7ab",
   "metadata": {},
   "outputs": [],
   "source": [
    "# MAE, RMSE for ARIMA\n",
    "mae_arima = mean_absolute_error(df['Ex_rate'][-30:], forecast)\n",
    "rmse_arima = mean_squared_error(df['Ex_rate'][-30:], forecast, squared=False)"
   ]
  },
  {
   "cell_type": "code",
   "execution_count": 22,
   "id": "726aca9e",
   "metadata": {},
   "outputs": [],
   "source": [
    "# MAE, RMSE for Exponential Smoothing\n",
    "mae_es = mean_absolute_error(df['Ex_rate'][-30:], forecast_es)\n",
    "rmse_es = mean_squared_error(df['Ex_rate'][-30:], forecast_es, squared=False)"
   ]
  },
  {
   "cell_type": "code",
   "execution_count": 23,
   "id": "8bf32ff8",
   "metadata": {},
   "outputs": [
    {
     "name": "stdout",
     "output_type": "stream",
     "text": [
      "ARIMA MAE: 0.012724006489318252 RMSE: 0.016982710912774826\n",
      "Exponential Smoothing MAE: 0.012755756156713368 RMSE: 0.017005229952751045\n"
     ]
    }
   ],
   "source": [
    "print('ARIMA MAE:', mae_arima, 'RMSE:', rmse_arima)\n",
    "print('Exponential Smoothing MAE:', mae_es, 'RMSE:', rmse_es)\n"
   ]
  },
  {
   "cell_type": "code",
   "execution_count": null,
   "id": "6a9f1c21",
   "metadata": {},
   "outputs": [],
   "source": []
  }
 ],
 "metadata": {
  "kernelspec": {
   "display_name": "Python 3",
   "language": "python",
   "name": "python3"
  },
  "language_info": {
   "codemirror_mode": {
    "name": "ipython",
    "version": 3
   },
   "file_extension": ".py",
   "mimetype": "text/x-python",
   "name": "python",
   "nbconvert_exporter": "python",
   "pygments_lexer": "ipython3",
   "version": "3.8.8"
  },
  "varInspector": {
   "cols": {
    "lenName": 16,
    "lenType": 16,
    "lenVar": 40
   },
   "kernels_config": {
    "python": {
     "delete_cmd_postfix": "",
     "delete_cmd_prefix": "del ",
     "library": "var_list.py",
     "varRefreshCmd": "print(var_dic_list())"
    },
    "r": {
     "delete_cmd_postfix": ") ",
     "delete_cmd_prefix": "rm(",
     "library": "var_list.r",
     "varRefreshCmd": "cat(var_dic_list()) "
    }
   },
   "types_to_exclude": [
    "module",
    "function",
    "builtin_function_or_method",
    "instance",
    "_Feature"
   ],
   "window_display": false
  }
 },
 "nbformat": 4,
 "nbformat_minor": 5
}
