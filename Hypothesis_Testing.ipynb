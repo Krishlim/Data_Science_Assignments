{
 "cells": [
  {
   "cell_type": "markdown",
   "id": "e350afb2-0fad-48a9-b573-7036b9ac4b55",
   "metadata": {},
   "source": [
    "Hypothesis Testing"
   ]
  },
  {
   "cell_type": "markdown",
   "id": "464d42d7-37dd-4221-bead-c2d0c1552df8",
   "metadata": {},
   "source": [
    "1.  Define Hypothesis :\n",
    "-  H0 : The theoretical weekly operating cost model: W = $1,000 + $5X is not accurate. (W != $1,000 + $5X)\n",
    "-  HA : The theoretical weekly operating cost model: W = $1,000 + $5X is accurate. (W = $1,000 + $5X)\n",
    "2.  We have Population mean. Therefore, we will use Z-test.\n",
    "3.  Two tail test (bcz we have to find cost model is accurate or not, in short if it is not accurate, it can be less or more. there fore, Two-Tail test)\n",
    "4.  Confidence Interval = 95% , Alpha Value = 0.05\n",
    "5.  Calculating z-statistics value and p-value\n",
    "   "
   ]
  },
  {
   "cell_type": "markdown",
   "id": "7e50d9dc-3f2a-4467-8be6-d6a9ce8570d3",
   "metadata": {},
   "source": [
    "-  Sample Size = 25\n",
    "-  No. of Samples = 1\n",
    "-  Sample Mean = ˉxˉ = 3050\n",
    "-  Population Mean = μ = (W = $1,000 + $5X for X = 600 units) = 4000\n",
    "-  Population Std = σ = 5*25 units = 125 units\n",
    "-  Alpha Value  = 0.05"
   ]
  },
  {
   "cell_type": "code",
   "execution_count": 3,
   "id": "8008015d-2350-4d60-a133-400dc7f02974",
   "metadata": {},
   "outputs": [],
   "source": [
    "import scipy\n",
    "from scipy import stats\n",
    "import numpy as np"
   ]
  },
  {
   "cell_type": "code",
   "execution_count": 4,
   "id": "188656d3-e287-4eab-839e-9004f80c7199",
   "metadata": {},
   "outputs": [
    {
     "name": "stdout",
     "output_type": "stream",
     "text": [
      "-38.0\n"
     ]
    }
   ],
   "source": [
    "#calculating z-statistics value (z = (ˉxˉ - μ)/(σ/sqrt(n)))\n",
    "\n",
    "n = 25\n",
    "ˉxˉ = 3050\n",
    "μ = 4000\n",
    "σ = 125\n",
    "z = ((ˉxˉ - μ)/(σ/np.sqrt(n)))\n",
    "print(z)"
   ]
  },
  {
   "cell_type": "markdown",
   "id": "54d6fc8e-17aa-483f-9819-9a5a7a8d750e",
   "metadata": {},
   "source": [
    "our z-statistics value is -38 and our confidence interval is 95%. for 95% confidence interval, acceptance region is from -1.96 to 1.96 only. Therefore, our z-statistics value -38 doesn't belong to Acceptance region, it belongs to Error Region. Therefore, We will Reject Null Hypothesis."
   ]
  },
  {
   "cell_type": "code",
   "execution_count": 6,
   "id": "6b68ba8f-96ac-43ab-b30f-1648ffea15e4",
   "metadata": {},
   "outputs": [
    {
     "name": "stdout",
     "output_type": "stream",
     "text": [
      "Reject H0. The theoretical weekly operating cost model: W = $1,000 + $5X is accurate. W = $1,000 + $5X\n"
     ]
    }
   ],
   "source": [
    "if z > (-1.96):\n",
    "    print (\"Failed to reject H0. The theoretical weekly operating cost model: W = $1,000 + $5X is not accurate. W != $1,000 + $5X\")\n",
    "else :\n",
    "    print (\"Reject H0. The theoretical weekly operating cost model: W = $1,000 + $5X is accurate. W = $1,000 + $5X\")"
   ]
  },
  {
   "cell_type": "markdown",
   "id": "25302c2c-985b-4100-aab1-4735981aae2f",
   "metadata": {},
   "source": [
    "Chi-Square Test"
   ]
  },
  {
   "cell_type": "markdown",
   "id": "84b4a4e6-1d4f-4732-a100-a1118b701bef",
   "metadata": {},
   "source": [
    "Null Hypothesis (H0) : Both the columns (the type of smart home device purchased (Smart Thermostats vs. Smart Lights) and the customer satisfaction level)are Independent.\n",
    "Alternate Hypothesis (HA) : Both the columns (the type of smart home device purchased (Smart Thermostats vs. Smart Lights) and the customer satisfaction level) are dependent to each other.0\t600\r\n"
   ]
  },
  {
   "cell_type": "code",
   "execution_count": 10,
   "id": "dca7c720-9988-46cb-8ab4-474de750c88d",
   "metadata": {},
   "outputs": [],
   "source": [
    "import pandas as pd"
   ]
  },
  {
   "cell_type": "code",
   "execution_count": 32,
   "id": "4b5d3c4c-c00c-46ea-ac45-91095ce95580",
   "metadata": {},
   "outputs": [
    {
     "data": {
      "text/html": [
       "<div>\n",
       "<style scoped>\n",
       "    .dataframe tbody tr th:only-of-type {\n",
       "        vertical-align: middle;\n",
       "    }\n",
       "\n",
       "    .dataframe tbody tr th {\n",
       "        vertical-align: top;\n",
       "    }\n",
       "\n",
       "    .dataframe thead th {\n",
       "        text-align: right;\n",
       "    }\n",
       "</style>\n",
       "<table border=\"1\" class=\"dataframe\">\n",
       "  <thead>\n",
       "    <tr style=\"text-align: right;\">\n",
       "      <th></th>\n",
       "      <th>Satisfaction</th>\n",
       "      <th>Smart Thermostat</th>\n",
       "      <th>Smart Light</th>\n",
       "      <th>Total</th>\n",
       "    </tr>\n",
       "  </thead>\n",
       "  <tbody>\n",
       "    <tr>\n",
       "      <th>0</th>\n",
       "      <td>Very Satisfied</td>\n",
       "      <td>50</td>\n",
       "      <td>70</td>\n",
       "      <td>120</td>\n",
       "    </tr>\n",
       "    <tr>\n",
       "      <th>1</th>\n",
       "      <td>Satisfied</td>\n",
       "      <td>80</td>\n",
       "      <td>100</td>\n",
       "      <td>180</td>\n",
       "    </tr>\n",
       "    <tr>\n",
       "      <th>2</th>\n",
       "      <td>Neutral</td>\n",
       "      <td>60</td>\n",
       "      <td>90</td>\n",
       "      <td>150</td>\n",
       "    </tr>\n",
       "    <tr>\n",
       "      <th>3</th>\n",
       "      <td>Unsatisfied</td>\n",
       "      <td>30</td>\n",
       "      <td>50</td>\n",
       "      <td>80</td>\n",
       "    </tr>\n",
       "    <tr>\n",
       "      <th>4</th>\n",
       "      <td>Very Unsatisfied</td>\n",
       "      <td>20</td>\n",
       "      <td>50</td>\n",
       "      <td>70</td>\n",
       "    </tr>\n",
       "  </tbody>\n",
       "</table>\n",
       "</div>"
      ],
      "text/plain": [
       "       Satisfaction Smart Thermostat Smart Light Total\n",
       "0    Very Satisfied               50          70   120\n",
       "1         Satisfied               80         100   180\n",
       "2           Neutral               60          90   150\n",
       "3       Unsatisfied               30          50    80\n",
       "4  Very Unsatisfied               20          50    70"
      ]
     },
     "execution_count": 32,
     "metadata": {},
     "output_type": "execute_result"
    }
   ],
   "source": [
    "df = pd.DataFrame({ 'Satisfaction' : ['Very Satisfied', 'Satisfied', 'Neutral', 'Unsatisfied', 'Very Unsatisfied'], \n",
    "                    'Smart Thermostat' : ['50', '80', '60', '30', '20'] ,\n",
    "                    'Smart Light' : ['70', '100', '90', '50', '50'],\n",
    "                    'Total' : ['120', '180', '150', '80', '70']})\n",
    "df"
   ]
  },
  {
   "cell_type": "code",
   "execution_count": 33,
   "id": "5f5a2d66-6bec-4ee5-bbd1-5000157ba1a7",
   "metadata": {},
   "outputs": [],
   "source": [
    "from scipy.stats import chi2_contingency"
   ]
  },
  {
   "cell_type": "code",
   "execution_count": 34,
   "id": "63424a56-f3d3-4643-9d5b-238a176d3f17",
   "metadata": {},
   "outputs": [
    {
     "data": {
      "text/html": [
       "<div>\n",
       "<style scoped>\n",
       "    .dataframe tbody tr th:only-of-type {\n",
       "        vertical-align: middle;\n",
       "    }\n",
       "\n",
       "    .dataframe tbody tr th {\n",
       "        vertical-align: top;\n",
       "    }\n",
       "\n",
       "    .dataframe thead th {\n",
       "        text-align: right;\n",
       "    }\n",
       "</style>\n",
       "<table border=\"1\" class=\"dataframe\">\n",
       "  <thead>\n",
       "    <tr style=\"text-align: right;\">\n",
       "      <th>Total</th>\n",
       "      <th>120</th>\n",
       "      <th>150</th>\n",
       "      <th>180</th>\n",
       "      <th>70</th>\n",
       "      <th>80</th>\n",
       "    </tr>\n",
       "    <tr>\n",
       "      <th>Satisfaction</th>\n",
       "      <th></th>\n",
       "      <th></th>\n",
       "      <th></th>\n",
       "      <th></th>\n",
       "      <th></th>\n",
       "    </tr>\n",
       "  </thead>\n",
       "  <tbody>\n",
       "    <tr>\n",
       "      <th>Neutral</th>\n",
       "      <td>0</td>\n",
       "      <td>1</td>\n",
       "      <td>0</td>\n",
       "      <td>0</td>\n",
       "      <td>0</td>\n",
       "    </tr>\n",
       "    <tr>\n",
       "      <th>Satisfied</th>\n",
       "      <td>0</td>\n",
       "      <td>0</td>\n",
       "      <td>1</td>\n",
       "      <td>0</td>\n",
       "      <td>0</td>\n",
       "    </tr>\n",
       "    <tr>\n",
       "      <th>Unsatisfied</th>\n",
       "      <td>0</td>\n",
       "      <td>0</td>\n",
       "      <td>0</td>\n",
       "      <td>0</td>\n",
       "      <td>1</td>\n",
       "    </tr>\n",
       "    <tr>\n",
       "      <th>Very Satisfied</th>\n",
       "      <td>1</td>\n",
       "      <td>0</td>\n",
       "      <td>0</td>\n",
       "      <td>0</td>\n",
       "      <td>0</td>\n",
       "    </tr>\n",
       "    <tr>\n",
       "      <th>Very Unsatisfied</th>\n",
       "      <td>0</td>\n",
       "      <td>0</td>\n",
       "      <td>0</td>\n",
       "      <td>1</td>\n",
       "      <td>0</td>\n",
       "    </tr>\n",
       "  </tbody>\n",
       "</table>\n",
       "</div>"
      ],
      "text/plain": [
       "Total             120  150  180  70  80\n",
       "Satisfaction                           \n",
       "Neutral             0    1    0   0   0\n",
       "Satisfied           0    0    1   0   0\n",
       "Unsatisfied         0    0    0   0   1\n",
       "Very Satisfied      1    0    0   0   0\n",
       "Very Unsatisfied    0    0    0   1   0"
      ]
     },
     "execution_count": 34,
     "metadata": {},
     "output_type": "execute_result"
    }
   ],
   "source": [
    "obs = pd.crosstab(index = df['Satisfaction'], columns = df['Total'])\n",
    "obs "
   ]
  },
  {
   "cell_type": "code",
   "execution_count": 35,
   "id": "6995debc-0b88-4262-abe3-5d803a790842",
   "metadata": {},
   "outputs": [],
   "source": [
    "chi2, p, dof, exp = chi2_contingency(obs)"
   ]
  },
  {
   "cell_type": "code",
   "execution_count": 36,
   "id": "0ae35753-42bb-408f-b3d7-c9e1b72c4b7a",
   "metadata": {},
   "outputs": [
    {
     "data": {
      "text/plain": [
       "0.22022064660169877"
      ]
     },
     "execution_count": 36,
     "metadata": {},
     "output_type": "execute_result"
    }
   ],
   "source": [
    "p"
   ]
  },
  {
   "cell_type": "code",
   "execution_count": 37,
   "id": "7ad1bb85-caa6-47bb-82a9-afb13e1b96d5",
   "metadata": {},
   "outputs": [
    {
     "data": {
      "text/plain": [
       "array([[0.2, 0.2, 0.2, 0.2, 0.2],\n",
       "       [0.2, 0.2, 0.2, 0.2, 0.2],\n",
       "       [0.2, 0.2, 0.2, 0.2, 0.2],\n",
       "       [0.2, 0.2, 0.2, 0.2, 0.2],\n",
       "       [0.2, 0.2, 0.2, 0.2, 0.2]])"
      ]
     },
     "execution_count": 37,
     "metadata": {},
     "output_type": "execute_result"
    }
   ],
   "source": [
    "exp     #expected frequency"
   ]
  },
  {
   "cell_type": "code",
   "execution_count": 38,
   "id": "485c4760-936c-401f-8f11-1d2dabdedeab",
   "metadata": {},
   "outputs": [
    {
     "data": {
      "text/plain": [
       "16"
      ]
     },
     "execution_count": 38,
     "metadata": {},
     "output_type": "execute_result"
    }
   ],
   "source": [
    "dof    #degrees of freedom"
   ]
  },
  {
   "cell_type": "markdown",
   "id": "9eda3694-2799-4cc6-9dd3-c01d5eca69f5",
   "metadata": {},
   "source": [
    "with dof = 16 and alpha value = 0.05 , Critical value  = 26.296    \n",
    "Therefore,\n",
    "-  Critical Value (26.296) > Chi2 Statistics Value (20)\n",
    "-  Failed to Reject Null Hypothesis. Both Columns are Independent."
   ]
  },
  {
   "cell_type": "code",
   "execution_count": 39,
   "id": "4b6d9dfd-ce01-497a-a41f-50f6f44fe18a",
   "metadata": {},
   "outputs": [
    {
     "data": {
      "text/plain": [
       "20.000000000000004"
      ]
     },
     "execution_count": 39,
     "metadata": {},
     "output_type": "execute_result"
    }
   ],
   "source": [
    "chi2     #test-statistics value"
   ]
  },
  {
   "cell_type": "markdown",
   "id": "fbcf391a-0b11-4166-acb8-6c6c9839658c",
   "metadata": {},
   "source": [
    "Alpha value = 0.05"
   ]
  },
  {
   "cell_type": "code",
   "execution_count": 41,
   "id": "cfd01627-f934-4103-838a-95cb1d544fb7",
   "metadata": {},
   "outputs": [
    {
     "name": "stdout",
     "output_type": "stream",
     "text": [
      "Failed to Reject Null Hypothesis. Both the Columns are Independent.\n"
     ]
    }
   ],
   "source": [
    "if p < 0.05:\n",
    "    print ('Reject Null Hypothesis. Both the Columns are Dependent to each other.')\n",
    "else :\n",
    "    print ('Failed to Reject Null Hypothesis. Both the Columns are Independent.')"
   ]
  },
  {
   "cell_type": "code",
   "execution_count": null,
   "id": "021b6b7d-f024-49d6-a4a3-551d73b69379",
   "metadata": {},
   "outputs": [],
   "source": []
  },
  {
   "cell_type": "code",
   "execution_count": null,
   "id": "762e4fac-0552-4471-b397-9c3404e32f51",
   "metadata": {},
   "outputs": [],
   "source": []
  },
  {
   "cell_type": "code",
   "execution_count": null,
   "id": "23c3c2ff-2c79-4b0f-a6a8-e9c463dd23ad",
   "metadata": {},
   "outputs": [],
   "source": []
  },
  {
   "cell_type": "code",
   "execution_count": null,
   "id": "06a662f3-6c21-4b23-a139-5578e547a982",
   "metadata": {},
   "outputs": [],
   "source": []
  },
  {
   "cell_type": "code",
   "execution_count": null,
   "id": "92cf72b5-f968-42a5-8da6-4183e07e39cb",
   "metadata": {},
   "outputs": [],
   "source": []
  },
  {
   "cell_type": "code",
   "execution_count": null,
   "id": "bed95c7e-d5ba-4fed-a6e3-383e562e1d82",
   "metadata": {},
   "outputs": [],
   "source": []
  },
  {
   "cell_type": "code",
   "execution_count": null,
   "id": "7c1eb173-2c1f-4c1d-b24b-336d22a811ce",
   "metadata": {},
   "outputs": [],
   "source": []
  },
  {
   "cell_type": "code",
   "execution_count": null,
   "id": "2bc1887b-4766-4862-8071-cb1dbc573283",
   "metadata": {},
   "outputs": [],
   "source": []
  },
  {
   "cell_type": "code",
   "execution_count": null,
   "id": "8562d12a-a1d2-44d1-aca9-81da4929110c",
   "metadata": {},
   "outputs": [],
   "source": []
  },
  {
   "cell_type": "code",
   "execution_count": null,
   "id": "b5b51b46-8a0e-4e0a-9952-c9a162144d6c",
   "metadata": {},
   "outputs": [],
   "source": []
  },
  {
   "cell_type": "code",
   "execution_count": null,
   "id": "816f5093-3c0f-4e24-978c-0a88560e8c7f",
   "metadata": {},
   "outputs": [],
   "source": []
  },
  {
   "cell_type": "code",
   "execution_count": null,
   "id": "c73cc8a1-52a0-4a2d-9efe-960c1e269b90",
   "metadata": {},
   "outputs": [],
   "source": []
  },
  {
   "cell_type": "code",
   "execution_count": null,
   "id": "6cf53944-9ab3-47da-b170-2276abc7cb0c",
   "metadata": {},
   "outputs": [],
   "source": []
  },
  {
   "cell_type": "code",
   "execution_count": null,
   "id": "e2e8a7bf-6cd0-4cc5-b2f7-d12676d94689",
   "metadata": {},
   "outputs": [],
   "source": []
  },
  {
   "cell_type": "code",
   "execution_count": null,
   "id": "9ad43637-48e5-4f9c-bbbf-b02c83544a6c",
   "metadata": {},
   "outputs": [],
   "source": []
  },
  {
   "cell_type": "code",
   "execution_count": null,
   "id": "a557dfe0-7c34-4250-93e6-43af4c7b725d",
   "metadata": {},
   "outputs": [],
   "source": []
  },
  {
   "cell_type": "code",
   "execution_count": null,
   "id": "9219429b-689e-4e57-9f1d-43c2f548c16a",
   "metadata": {},
   "outputs": [],
   "source": []
  },
  {
   "cell_type": "code",
   "execution_count": null,
   "id": "f6345664-a730-431f-a3f9-32f12d2a0877",
   "metadata": {},
   "outputs": [],
   "source": []
  },
  {
   "cell_type": "code",
   "execution_count": null,
   "id": "2be9b1b1-1c45-4da2-8456-34de595470c6",
   "metadata": {},
   "outputs": [],
   "source": []
  },
  {
   "cell_type": "code",
   "execution_count": null,
   "id": "786d43e0-bc8e-4ab7-97e5-4aa23578bd6b",
   "metadata": {},
   "outputs": [],
   "source": []
  },
  {
   "cell_type": "code",
   "execution_count": null,
   "id": "832066f0-4f2c-4229-adbd-ae6c778f5c50",
   "metadata": {},
   "outputs": [],
   "source": []
  },
  {
   "cell_type": "code",
   "execution_count": null,
   "id": "4723e752-3b6b-4683-baf4-932bce73df16",
   "metadata": {},
   "outputs": [],
   "source": []
  },
  {
   "cell_type": "code",
   "execution_count": null,
   "id": "64e10d9b-c533-4511-b95f-78b6104f06a6",
   "metadata": {},
   "outputs": [],
   "source": []
  },
  {
   "cell_type": "code",
   "execution_count": null,
   "id": "4f1851aa-27e3-4e6b-adab-ce7be4cd6121",
   "metadata": {},
   "outputs": [],
   "source": []
  },
  {
   "cell_type": "code",
   "execution_count": null,
   "id": "7b9f68cc-c61d-4751-b356-2e5c115f2565",
   "metadata": {},
   "outputs": [],
   "source": []
  },
  {
   "cell_type": "code",
   "execution_count": null,
   "id": "34984f71-2261-44ba-831f-182a98dc59c2",
   "metadata": {},
   "outputs": [],
   "source": []
  },
  {
   "cell_type": "code",
   "execution_count": null,
   "id": "5956abe2-1abe-4d48-a325-838d87420f3f",
   "metadata": {},
   "outputs": [],
   "source": []
  }
 ],
 "metadata": {
  "kernelspec": {
   "display_name": "Python 3 (ipykernel)",
   "language": "python",
   "name": "python3"
  },
  "language_info": {
   "codemirror_mode": {
    "name": "ipython",
    "version": 3
   },
   "file_extension": ".py",
   "mimetype": "text/x-python",
   "name": "python",
   "nbconvert_exporter": "python",
   "pygments_lexer": "ipython3",
   "version": "3.11.7"
  }
 },
 "nbformat": 4,
 "nbformat_minor": 5
}
